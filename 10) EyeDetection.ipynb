{
 "cells": [
  {
   "cell_type": "markdown",
   "metadata": {},
   "source": [
    "# Eye Detection"
   ]
  },
  {
   "cell_type": "code",
   "execution_count": 1,
   "metadata": {},
   "outputs": [],
   "source": [
    "import cv2 \n",
    "import numpy as np"
   ]
  },
  {
   "cell_type": "code",
   "execution_count": 2,
   "metadata": {},
   "outputs": [],
   "source": [
    "cap=cv2.VideoCapture(0) # To access the camera"
   ]
  },
  {
   "cell_type": "code",
   "execution_count": 3,
   "metadata": {},
   "outputs": [],
   "source": [
    "face_model=cv2.CascadeClassifier('haarcascade_frontalface_default.xml') # To load face model\n",
    "eye_model=cv2.CascadeClassifier('haarcascade_eye.xml') # To load haarcascade eye model"
   ]
  },
  {
   "cell_type": "code",
   "execution_count": 4,
   "metadata": {},
   "outputs": [],
   "source": [
    "while True:\n",
    "    ret,photo=cap.read() # To capture image\n",
    "    gray=cv2.cvtColor(photo,cv2.COLOR_BGR2GRAY) # Converting original image to gray image\n",
    "    faces=face_model.detectMultiScale(gray,1.3,5) # To detect faces\n",
    "    for x,y,w,h in faces:\n",
    "        #cv2.rectangle(photo,(x,y),(x+w,y+h),[0,255,0],3)\n",
    "        roi_gray=gray[y:y+h,x:x+w] # To store position of eyes in gray image\n",
    "        roi_color=photo[y:y+h,x:x+w] # To store position of eyes in original image\n",
    "        eyes=eye_model.detectMultiScale(roi_gray) # To detect eyes from gray image\n",
    "        for ex,ey,ew,eh in eyes:\n",
    "            cv2.rectangle(roi_color,(ex,ey),(ex+ew,ey+eh),(255,0,0),3) # To draw rectangle on eyes\n",
    "    cv2.imshow(\"Eye detector\",photo)\n",
    "    if cv2.waitKey(1)==13:\n",
    "        break\n",
    "cv2.destroyAllWindows()\n",
    "cap.release()"
   ]
  },
  {
   "cell_type": "code",
   "execution_count": null,
   "metadata": {},
   "outputs": [],
   "source": []
  }
 ],
 "metadata": {
  "kernelspec": {
   "display_name": "Python 3",
   "language": "python",
   "name": "python3"
  },
  "language_info": {
   "codemirror_mode": {
    "name": "ipython",
    "version": 3
   },
   "file_extension": ".py",
   "mimetype": "text/x-python",
   "name": "python",
   "nbconvert_exporter": "python",
   "pygments_lexer": "ipython3",
   "version": "3.7.4"
  }
 },
 "nbformat": 4,
 "nbformat_minor": 2
}
